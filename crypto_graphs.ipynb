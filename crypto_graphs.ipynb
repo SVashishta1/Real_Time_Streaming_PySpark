{
 "cells": [
  {
   "cell_type": "markdown",
   "metadata": {},
   "source": [
    "# Checking Json response"
   ]
  },
  {
   "cell_type": "code",
   "execution_count": null,
   "metadata": {},
   "outputs": [],
   "source": [
    "import requests\n",
    "import json\n",
    "import pymysql\n",
    "import time\n",
    "\n",
    "l=[\"http://api.coincap.io/v2/assets/bitcoin\",\n",
    " \"http://api.coincap.io/v2/assets/ethereum\",\n",
    "\"http://api.coincap.io/v2/assets/tether\",\n",
    " \"http://api.coincap.io/v2/assets/polygon\",\n",
    "\"http://api.coincap.io/v2/assets/xrp\"]\n",
    "for url in l:\n",
    "    # response = requests.request(\"GET\", url, headers=headers, data = payload)\n",
    "    response = requests.request(\"GET\", url)\n",
    "\n",
    "    json_data = json.loads(response.text.encode('utf8'))\n",
    "\n",
    "    print(json_data)"
   ]
  },
  {
   "cell_type": "markdown",
   "metadata": {},
   "source": [
    "# Check Database Connectivity"
   ]
  },
  {
   "cell_type": "code",
   "execution_count": null,
   "metadata": {},
   "outputs": [],
   "source": [
    "import pymysql\n",
    "\n",
    "DB_HOST = 'localhost' # MySQL database configuration\n",
    "DB_USER = 'root'\n",
    "DB_PASSWORD = 'RootPass@#007'\n",
    "DB_NAME = 'pyspark_project'\n",
    "try:\n",
    "    \n",
    "    connection = pymysql.connect(host=DB_HOST, # Connecting to MySQL server\n",
    "                                 user=DB_USER,\n",
    "                                 password=DB_PASSWORD,\n",
    "                                 db=DB_NAME,\n",
    "                                 charset='utf8mb4',\n",
    "                                 cursorclass=pymysql.cursors.DictCursor)\n",
    "    print(\"Connection successful!\")\n",
    "except pymysql.Error as e:\n",
    "    print(f\"Connection failed: {e}\")\n",
    "finally:\n",
    "    \n",
    "    if connection:\n",
    "        connection.close() # Closing the connection\n"
   ]
  },
  {
   "cell_type": "markdown",
   "metadata": {},
   "source": [
    "# Plotting Graphs"
   ]
  },
  {
   "cell_type": "code",
   "execution_count": null,
   "metadata": {},
   "outputs": [],
   "source": [
    "from pyspark.sql import SparkSession\n",
    "import plotly.graph_objects as go\n",
    "import time\n",
    "from IPython.display import clear_output\n",
    "\n",
    "\n",
    "# Providing path to the MySQL Connector/JAR file to enable communication between spark & database \n",
    "mysql_connector_jar = \"/Users/svashi/Documents/kafka/kafka_2.12-3.5.0/mysql-connector-j-8.4.0/mysql-connector-j-8.4.0.jar\"\n",
    "\n",
    "# Creating a SparkSession \n",
    "spark = SparkSession.builder.appName(\"YourAppName\").config(\"spark.driver.extraClassPath\", mysql_connector_jar).config(\"spark.executor.extraClassPath\", mysql_connector_jar).getOrCreate()\n",
    "\n",
    "# Setting up MySQL database configuration \n",
    "DB_HOST = 'localhost'\n",
    "DB_USER = 'root'\n",
    "DB_PASSWORD = 'RootPass@#007'\n",
    "DB_NAME = 'pyspark_project'\n",
    "\n",
    "\n",
    "def fetch_data(symbol): # This function is to fetch data from MySQL database\n",
    "    df = spark.read.format(\"jdbc\").options(\n",
    "        url=f\"jdbc:mysql://{DB_HOST}/{DB_NAME}\",\n",
    "        driver=\"com.mysql.cj.jdbc.Driver\",\n",
    "        dbtable=\"crypto_prices\",\n",
    "        user=DB_USER,\n",
    "        password=DB_PASSWORD,\n",
    "        partitionColumn=\"idx\",  \n",
    "        lowerBound=1,\n",
    "        upperBound=100,\n",
    "        numPartitions=10\n",
    "    ).load()\n",
    "    return df.filter(df.symbol == symbol).toPandas()\n",
    "\n",
    " \n",
    "symbols = ['BTC', 'ETH', 'XRP', 'USDT', 'MATIC'] # Defining the Crypto Coin Symbols\n",
    "\n",
    "\n",
    "\n",
    "figures = []\n",
    "# The below code will fetch the data of respective cryptos from the database and plots a graph for each\n",
    "colors = ['blue', 'green', 'red', 'purple', 'orange']\n",
    "for symbol, color in zip(symbols, colors):\n",
    "    data = fetch_data(symbol)\n",
    "    fig = go.Figure()\n",
    "    fig.add_trace(go.Scatter(x=data['timestamp'], y=data['priceUsd'], mode='lines', name=symbol, line=dict(color=color)))\n",
    "    fig.update_layout(title=f'Crypto Price - {symbol}',\n",
    "                      xaxis_title='Timestamp',\n",
    "                      yaxis_title='Price (USD)',\n",
    "                      xaxis=dict(rangeslider=dict(visible=True)),  \n",
    "                      showlegend=True)\n",
    "    figures.append(fig)\n",
    "\n",
    "\n",
    "for fig in figures: # This will display the initial plots\n",
    "    fig.show()\n",
    "\n",
    "\n",
    "while True: # Initiating a loop to plot the graph to include the most recent data\n",
    "    time.sleep(10) # with a 10 second wait time\n",
    "    \n",
    "    clear_output(wait=True) # This will clear the output of the current cell\n",
    "    \n",
    "    for fig, symbol in zip(figures, symbols): # this code will fetch & update the plots\n",
    "        data = fetch_data(symbol) \n",
    "        fig.data[0].x = data['timestamp']\n",
    "        fig.data[0].y = data['priceUsd']\n",
    "    for fig in figures:\n",
    "        fig.show()\n",
    "    \n"
   ]
  }
 ],
 "metadata": {
  "kernelspec": {
   "display_name": "Python 3",
   "language": "python",
   "name": "python3"
  },
  "language_info": {
   "codemirror_mode": {
    "name": "ipython",
    "version": 3
   },
   "file_extension": ".py",
   "mimetype": "text/x-python",
   "name": "python",
   "nbconvert_exporter": "python",
   "pygments_lexer": "ipython3",
   "version": "3.11.5"
  }
 },
 "nbformat": 4,
 "nbformat_minor": 2
}
